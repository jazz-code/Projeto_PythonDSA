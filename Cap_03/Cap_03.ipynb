{
 "cells": [
  {
   "cell_type": "markdown",
   "metadata": {},
   "source": [
    "#### 1. Exemplo de pseudocódigo:  \n",
    "      Se a temperatura for maior que 30:  \n",
    "      Diga \"Está quente\"  \n",
    "      Senão:  \n",
    "      Diga \"Está agradável\""
   ]
  },
  {
   "cell_type": "code",
   "execution_count": 19,
   "metadata": {},
   "outputs": [
    {
     "name": "stdout",
     "output_type": "stream",
     "text": [
      "Está agradável\n"
     ]
    }
   ],
   "source": [
    "Temperatura = 29\n",
    "if Temperatura == 30 or Temperatura > 30:\n",
    "    print (\"Está quente\")\n",
    "else:\n",
    "    print (\"Está agradável\")\n"
   ]
  },
  {
   "cell_type": "markdown",
   "metadata": {},
   "source": [
    "### 2. Exemplo de pseudocódigo: Calcular a área de de um paralelograma  \n",
    "Inicie\n",
    "    \n",
    "    Exiba \"Bem-vindo ao Calculador de Área de Paralelogramo\"\n",
    "    Peça para o usuário inserir o comprimento da base\n",
    "    Armazene o comprimento da base em uma variável\n",
    "    Peça para o usuário inserir a altura\n",
    "    Armazene a altura em uma variável\n",
    "    Calcule a área do paralelogramo:  base * altura\n",
    "    Armazene o resultado em uma variável\n",
    "    Exiba o resultado\n",
    "    \n",
    "Fim"
   ]
  },
  {
   "cell_type": "code",
   "execution_count": 21,
   "metadata": {},
   "outputs": [
    {
     "name": "stdout",
     "output_type": "stream",
     "text": [
      "Bem Vindo ao calculador de Área de Paralelogramo!\n"
     ]
    }
   ],
   "source": [
    "print(\"Bem Vindo ao calculador de Área de Paralelogramo!\")"
   ]
  },
  {
   "cell_type": "code",
   "execution_count": 11,
   "metadata": {},
   "outputs": [
    {
     "name": "stdout",
     "output_type": "stream",
     "text": [
      "6.0\n"
     ]
    }
   ],
   "source": [
    "Base = float(input(\"Insira o cumprimento da base: \"))\n",
    "print(Base)"
   ]
  },
  {
   "cell_type": "code",
   "execution_count": 12,
   "metadata": {},
   "outputs": [
    {
     "name": "stdout",
     "output_type": "stream",
     "text": [
      "4.0\n"
     ]
    }
   ],
   "source": [
    "Altura = float(input(\"Insira a altura: \"))\n",
    "print(Altura)"
   ]
  },
  {
   "cell_type": "code",
   "execution_count": 13,
   "metadata": {},
   "outputs": [],
   "source": [
    "area = Base * Altura"
   ]
  },
  {
   "cell_type": "code",
   "execution_count": 14,
   "metadata": {},
   "outputs": [
    {
     "name": "stdout",
     "output_type": "stream",
     "text": [
      "A área do paralelogramo é:  24.0\n"
     ]
    }
   ],
   "source": [
    "print (\"A área do paralelogramo é: \", area)"
   ]
  },
  {
   "cell_type": "markdown",
   "metadata": {},
   "source": [
    "### 3. Pseudocódigo: Calculadora simples.\n",
    "    Exiba \"Bem vindo a minha calculadora\"\n",
    "    Definir as operações básicas (- + / *)\n",
    "    Perdir ao usuário para incluir a operação que ele deseja fazer."
   ]
  },
  {
   "cell_type": "markdown",
   "metadata": {},
   "source": []
  }
 ],
 "metadata": {
  "kernelspec": {
   "display_name": "Python 3",
   "language": "python",
   "name": "python3"
  },
  "language_info": {
   "codemirror_mode": {
    "name": "ipython",
    "version": 3
   },
   "file_extension": ".py",
   "mimetype": "text/x-python",
   "name": "python",
   "nbconvert_exporter": "python",
   "pygments_lexer": "ipython3",
   "version": "3.9.13"
  }
 },
 "nbformat": 4,
 "nbformat_minor": 2
}
