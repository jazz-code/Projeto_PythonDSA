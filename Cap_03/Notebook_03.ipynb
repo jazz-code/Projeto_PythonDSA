{
 "cells": [
  {
   "cell_type": "markdown",
   "metadata": {},
   "source": [
    "#### 1. Exemplo de pseudocódigo:  \n",
    "      Se a temperatura for maior que 30:  \n",
    "      Diga \"Está quente\"  \n",
    "      Senão:  \n",
    "      Diga \"Está agradável\""
   ]
  },
  {
   "cell_type": "code",
   "execution_count": 19,
   "metadata": {},
   "outputs": [
    {
     "name": "stdout",
     "output_type": "stream",
     "text": [
      "Está agradável\n"
     ]
    }
   ],
   "source": [
    "Temperatura = 29\n",
    "if Temperatura == 30 or Temperatura > 30:\n",
    "    print (\"Está quente\")\n",
    "else:\n",
    "    print (\"Está agradável\")\n"
   ]
  },
  {
   "cell_type": "markdown",
   "metadata": {},
   "source": [
    "### 2. Exemplo de pseudocódigo: Calcular a área de de um paralelograma  \n",
    "Inicie\n",
    "    \n",
    "    Exiba \"Bem-vindo ao Calculador de Área de Paralelogramo\"\n",
    "    Peça para o usuário inserir o comprimento da base\n",
    "    Armazene o comprimento da base em uma variável\n",
    "    Peça para o usuário inserir a altura\n",
    "    Armazene a altura em uma variável\n",
    "    Calcule a área do paralelogramo:  base * altura\n",
    "    Armazene o resultado em uma variável\n",
    "    Exiba o resultado\n",
    "    \n",
    "Fim"
   ]
  },
  {
   "cell_type": "code",
   "execution_count": 21,
   "metadata": {},
   "outputs": [
    {
     "name": "stdout",
     "output_type": "stream",
     "text": [
      "Bem Vindo ao calculador de Área de Paralelogramo!\n"
     ]
    }
   ],
   "source": [
    "print(\"Bem Vindo ao calculador de Área de Paralelogramo!\")"
   ]
  },
  {
   "cell_type": "code",
   "execution_count": 11,
   "metadata": {},
   "outputs": [
    {
     "name": "stdout",
     "output_type": "stream",
     "text": [
      "6.0\n"
     ]
    }
   ],
   "source": [
    "Base = float(input(\"Insira o cumprimento da base: \"))\n",
    "print(Base)"
   ]
  },
  {
   "cell_type": "code",
   "execution_count": 12,
   "metadata": {},
   "outputs": [
    {
     "name": "stdout",
     "output_type": "stream",
     "text": [
      "4.0\n"
     ]
    }
   ],
   "source": [
    "Altura = float(input(\"Insira a altura: \"))\n",
    "print(Altura)"
   ]
  },
  {
   "cell_type": "code",
   "execution_count": 13,
   "metadata": {},
   "outputs": [],
   "source": [
    "area = Base * Altura"
   ]
  },
  {
   "cell_type": "code",
   "execution_count": 14,
   "metadata": {},
   "outputs": [
    {
     "name": "stdout",
     "output_type": "stream",
     "text": [
      "A área do paralelogramo é:  24.0\n"
     ]
    }
   ],
   "source": [
    "print (\"A área do paralelogramo é: \", area)"
   ]
  },
  {
   "cell_type": "markdown",
   "metadata": {},
   "source": [
    "### 3. Pseudocódigo: Calculadora simples.\n",
    "Inicie\n",
    "\n",
    "    Exiba \"Bem-vindo à Calculadora\"\n",
    "    Peça para o usuário inserir o primeiro número\n",
    "    Armazene o primeiro número em uma variável\n",
    "    Peça para o usuário inserir o segundo número\n",
    "    Armazene o segundo número em uma variável\n",
    "    Peça para o usuário selecionar uma operação (+, -, *, /)\n",
    "    Armazene a operação em uma variável\n",
    "    Utilize a operação selecionada e os números armazenados para realizar o cálculo\n",
    "    Exiba o resultado\n",
    "\n",
    "Fim"
   ]
  },
  {
   "cell_type": "code",
   "execution_count": 9,
   "metadata": {},
   "outputs": [
    {
     "name": "stdout",
     "output_type": "stream",
     "text": [
      "Bem vindo a calculadora!\n"
     ]
    }
   ],
   "source": [
    "print(\"Bem vindo a calculadora!\")"
   ]
  },
  {
   "cell_type": "code",
   "execution_count": 10,
   "metadata": {},
   "outputs": [],
   "source": [
    "Num1 = float(input(\"Insira o primeiro número\"))\n",
    "Num2 = float(input(\"Insirar o segundo número\"))"
   ]
  },
  {
   "cell_type": "code",
   "execution_count": 11,
   "metadata": {},
   "outputs": [],
   "source": [
    "operacao = input(\"Selecione a operação (+, -, *, /): \")"
   ]
  },
  {
   "cell_type": "code",
   "execution_count": null,
   "metadata": {},
   "outputs": [
    {
     "name": "stdout",
     "output_type": "stream",
     "text": [
      "O Resultado é:  3.0\n"
     ]
    }
   ],
   "source": [
    "\n",
    "if operacao\t== \"+\":\n",
    "    resultado = Num1 + Num2\n",
    "    print(\"O Resultado é: \", resultado)\n",
    "elif operacao == \"-\":\n",
    "    resultado = Num1 - Num2\n",
    "    print(\"O Resultado é: \", resultado)\n",
    "elif operacao == \"*\":\n",
    "    resultado = Num1 * Num2\n",
    "    print(\"O Resultado é: \", resultado)\n",
    "elif operacao ==\"/\":\n",
    "    resultado = Num1 / Num2\n",
    "    print(\"O Resultado é: \", resultado)\n",
    "else:\n",
    "   print(\"Operação inválida.\")"
   ]
  },
  {
   "cell_type": "markdown",
   "metadata": {},
   "source": [
    "### 4. Pseudocódigo - Algoritimo Bubble Sort \n",
    "Bubble Sort é um dos algoritmos de ordenação mais simples, usado para organizar uma lista de elementos (como números) em ordem crescente ou decrescente. Ele funciona comparando repetidamente pares de elementos adjacentes e os trocando de lugar se estiverem na ordem errada.\n",
    "\n",
    "Inicie\n",
    "    \n",
    "    Para cada elemento i no array de tamanho n\n",
    "        Para cada elemento j no array de tamanho n - 1\n",
    "            Se elemento i for maior que elemento j\n",
    "                Troque os elementos i e j\n",
    "    Exiba o array ordenado\n",
    "\n",
    "Fim"
   ]
  },
  {
   "cell_type": "code",
   "execution_count": 6,
   "metadata": {},
   "outputs": [],
   "source": [
    "lista = [6, 3, 12, 7, 63, 9, 5, 68, 25, 24, 58, 46, 47, 21, 13, 33, 55, 1, 85, 45, 101, 502, 451, 37, 222, 333, 111]"
   ]
  },
  {
   "cell_type": "code",
   "execution_count": 7,
   "metadata": {},
   "outputs": [],
   "source": [
    "def Bubble_Sort(arr):\n",
    "    n = len(arr)\n",
    "    for i in range(n):\n",
    "        for j in range(0, n-i-1):\n",
    "            if arr [j] > arr[j+1]:\n",
    "                arr[j], arr[j+1] = arr[j+1], arr[j]\n",
    "    return arr"
   ]
  },
  {
   "cell_type": "code",
   "execution_count": 8,
   "metadata": {},
   "outputs": [
    {
     "name": "stdout",
     "output_type": "stream",
     "text": [
      "[1, 3, 5, 6, 7, 9, 12, 13, 21, 24, 25, 33, 37, 45, 46, 47, 55, 58, 63, 68, 85, 101, 111, 222, 333, 451, 502]\n"
     ]
    }
   ],
   "source": [
    "print(Bubble_Sort(lista))"
   ]
  }
 ],
 "metadata": {
  "kernelspec": {
   "display_name": "3.9.13",
   "language": "python",
   "name": "python3"
  },
  "language_info": {
   "codemirror_mode": {
    "name": "ipython",
    "version": 3
   },
   "file_extension": ".py",
   "mimetype": "text/x-python",
   "name": "python",
   "nbconvert_exporter": "python",
   "pygments_lexer": "ipython3",
   "version": "3.9.13"
  }
 },
 "nbformat": 4,
 "nbformat_minor": 2
}
